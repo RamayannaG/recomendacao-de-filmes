{
  "nbformat": 4,
  "nbformat_minor": 0,
  "metadata": {
    "colab": {
      "provenance": [],
      "authorship_tag": "ABX9TyMonIETTQAtw2SIFCAOrKFH",
      "include_colab_link": true
    },
    "kernelspec": {
      "name": "python3",
      "display_name": "Python 3"
    },
    "language_info": {
      "name": "python"
    }
  },
  "cells": [
    {
      "cell_type": "markdown",
      "metadata": {
        "id": "view-in-github",
        "colab_type": "text"
      },
      "source": [
        "<a href=\"https://colab.research.google.com/github/RamayannaG/recomendacao-de-filmes/blob/main/Q8.ipynb\" target=\"_parent\"><img src=\"https://colab.research.google.com/assets/colab-badge.svg\" alt=\"Open In Colab\"/></a>"
      ]
    },
    {
      "cell_type": "markdown",
      "source": [
        "PROJETO INTEGRADOR - Unifacisa\n",
        "\n",
        "Grupo: Ramayanna Cunha e Rayonnara Cunha\n",
        "\n",
        "**Questão 8 (Avançado) - Recomendação de Filmes com Filtragem Colaborativa**\n",
        "\n",
        "Uma plataforma de streaming deseja sugerir filmes para os usuários com base nas avaliações de outros usuários.\n",
        "\n",
        "Tarefas:\n",
        "- Utilize um dataset de avaliações de filmes (exemplo: MovieLens).\n",
        "- Implemente um modelo de filtragem colaborativa baseado em usuários e itens.\n",
        "- Compare a filtragem colaborativa com abordagens baseadas em aprendizado profundo (exemplo:\n",
        "Autoencoders).\n",
        "- Avalie o desempenho com métricas como RMSE e MAE.\n",
        "\n",
        "Pergunta: Qual abordagem foi mais eficiente na recomendação de filmes? Como melhorar o sistema de recomendação?"
      ],
      "metadata": {
        "id": "eHQQw-AWkKMs"
      }
    },
    {
      "cell_type": "code",
      "source": [
        "# Importar todas as bibliotecas necessárias\n",
        "import pandas as pd\n",
        "import numpy as np\n",
        "from sklearn.metrics import mean_squared_error, mean_absolute_error\n",
        "from sklearn.model_selection import train_test_split\n",
        "from sklearn.neighbors import NearestNeighbors\n",
        "import matplotlib.pyplot as plt\n",
        "import seaborn as sns"
      ],
      "metadata": {
        "id": "9tYRP1JQkM-a"
      },
      "execution_count": 1,
      "outputs": []
    },
    {
      "cell_type": "code",
      "source": [
        "# Ler o dataset MovieLens, visualizar primeiras linhas, checar informações gerais\n",
        "!wget http://files.grouplens.org/datasets/movielens/ml-latest-small.zip\n",
        "!unzip ml-latest-small.zip\n",
        "\n",
        "import pandas as pd\n",
        "\n",
        "df_ratings = pd.read_csv('ml-latest-small/ratings.csv')\n",
        "df_movies = pd.read_csv('ml-latest-small/movies.csv')\n",
        "\n",
        "print(df_ratings.head())\n",
        "print(df_movies.head())\n",
        "print(df_ratings.info())"
      ],
      "metadata": {
        "colab": {
          "base_uri": "https://localhost:8080/"
        },
        "id": "ElwT1qtoktk4",
        "outputId": "e7428ca6-a3c0-4acd-cf33-d426362b0c1a"
      },
      "execution_count": 2,
      "outputs": [
        {
          "output_type": "stream",
          "name": "stdout",
          "text": [
            "--2025-10-28 22:11:18--  http://files.grouplens.org/datasets/movielens/ml-latest-small.zip\n",
            "Resolving files.grouplens.org (files.grouplens.org)... 128.101.96.204\n",
            "Connecting to files.grouplens.org (files.grouplens.org)|128.101.96.204|:80... connected.\n",
            "HTTP request sent, awaiting response... 301 Moved Permanently\n",
            "Location: https://files.grouplens.org/datasets/movielens/ml-latest-small.zip [following]\n",
            "--2025-10-28 22:11:19--  https://files.grouplens.org/datasets/movielens/ml-latest-small.zip\n",
            "Connecting to files.grouplens.org (files.grouplens.org)|128.101.96.204|:443... connected.\n",
            "HTTP request sent, awaiting response... 200 OK\n",
            "Length: 978202 (955K) [application/zip]\n",
            "Saving to: ‘ml-latest-small.zip’\n",
            "\n",
            "ml-latest-small.zip 100%[===================>] 955.28K  4.31MB/s    in 0.2s    \n",
            "\n",
            "2025-10-28 22:11:19 (4.31 MB/s) - ‘ml-latest-small.zip’ saved [978202/978202]\n",
            "\n",
            "Archive:  ml-latest-small.zip\n",
            "   creating: ml-latest-small/\n",
            "  inflating: ml-latest-small/links.csv  \n",
            "  inflating: ml-latest-small/tags.csv  \n",
            "  inflating: ml-latest-small/ratings.csv  \n",
            "  inflating: ml-latest-small/README.txt  \n",
            "  inflating: ml-latest-small/movies.csv  \n",
            "   userId  movieId  rating  timestamp\n",
            "0       1        1     4.0  964982703\n",
            "1       1        3     4.0  964981247\n",
            "2       1        6     4.0  964982224\n",
            "3       1       47     5.0  964983815\n",
            "4       1       50     5.0  964982931\n",
            "   movieId                               title  \\\n",
            "0        1                    Toy Story (1995)   \n",
            "1        2                      Jumanji (1995)   \n",
            "2        3             Grumpier Old Men (1995)   \n",
            "3        4            Waiting to Exhale (1995)   \n",
            "4        5  Father of the Bride Part II (1995)   \n",
            "\n",
            "                                        genres  \n",
            "0  Adventure|Animation|Children|Comedy|Fantasy  \n",
            "1                   Adventure|Children|Fantasy  \n",
            "2                               Comedy|Romance  \n",
            "3                         Comedy|Drama|Romance  \n",
            "4                                       Comedy  \n",
            "<class 'pandas.core.frame.DataFrame'>\n",
            "RangeIndex: 100836 entries, 0 to 100835\n",
            "Data columns (total 4 columns):\n",
            " #   Column     Non-Null Count   Dtype  \n",
            "---  ------     --------------   -----  \n",
            " 0   userId     100836 non-null  int64  \n",
            " 1   movieId    100836 non-null  int64  \n",
            " 2   rating     100836 non-null  float64\n",
            " 3   timestamp  100836 non-null  int64  \n",
            "dtypes: float64(1), int64(3)\n",
            "memory usage: 3.1 MB\n",
            "None\n"
          ]
        }
      ]
    },
    {
      "cell_type": "code",
      "source": [
        "# Criar matriz usuário-item, lidar com valores ausentes\n",
        "user_item_matrix = df_ratings.pivot(index='userId', columns='movieId', values='rating').fillna(0)"
      ],
      "metadata": {
        "id": "l4RjtNMOktc5"
      },
      "execution_count": 3,
      "outputs": []
    },
    {
      "cell_type": "code",
      "source": [
        "# Implementar similaridade entre usuários usando KNN e fazer recomendações\n",
        "model_knn_user = NearestNeighbors(metric='cosine', algorithm='brute')\n",
        "model_knn_user.fit(user_item_matrix.values)\n",
        "\n",
        "# Exemplo de recomendação para um usuário específico\n",
        "user_index = 0\n",
        "distances, indices = model_knn_user.kneighbors([user_item_matrix.values[user_index]], n_neighbors=6)\n",
        "print(\"Usuários similares:\", indices)"
      ],
      "metadata": {
        "colab": {
          "base_uri": "https://localhost:8080/"
        },
        "id": "wjyYRAszktUi",
        "outputId": "236d3a0b-0b46-4946-de6c-3f5ea3b346cf"
      },
      "execution_count": 4,
      "outputs": [
        {
          "output_type": "stream",
          "name": "stdout",
          "text": [
            "Usuários similares: [[  0 265 312 367  56  90]]\n"
          ]
        }
      ]
    },
    {
      "cell_type": "code",
      "source": [
        "# Implementar similaridade entre itens e recomendar filmes semelhantes\n",
        "item_matrix = user_item_matrix.T\n",
        "model_knn_item = NearestNeighbors(metric='cosine', algorithm='brute')\n",
        "model_knn_item.fit(item_matrix.values)\n",
        "\n",
        "movie_index = 0\n",
        "distances, indices = model_knn_item.kneighbors([item_matrix.values[movie_index]], n_neighbors=6)\n",
        "print(\"Filmes similares:\", indices)"
      ],
      "metadata": {
        "colab": {
          "base_uri": "https://localhost:8080/"
        },
        "id": "0nGCou_WktJy",
        "outputId": "48c97fb9-3ba1-49b0-fd03-1f5eb39e0b28"
      },
      "execution_count": 5,
      "outputs": [
        {
          "output_type": "stream",
          "name": "stdout",
          "text": [
            "Filmes similares: [[   0 2353  418  615  224  314]]\n"
          ]
        }
      ]
    },
    {
      "cell_type": "code",
      "source": [
        "# SALVAR MODELOS E DADOS EM FORMATO .PKL\n",
        "\n",
        "import pickle\n",
        "\n",
        "# Salvar os modelos de filtragem colaborativa\n",
        "with open('model_knn_user.pkl', 'wb') as f:\n",
        "    pickle.dump(model_knn_user, f)\n",
        "\n",
        "with open('model_knn_item.pkl', 'wb') as f:\n",
        "    pickle.dump(model_knn_item, f)\n",
        "\n",
        "# Salvar a matriz usuário-item\n",
        "with open('user_item_matrix.pkl', 'wb') as f:\n",
        "    pickle.dump(user_item_matrix, f)\n",
        "\n",
        "# Salvar o modelo PCA (opcional, pode ser útil depois)\n",
        "with open('pca_model.pkl', 'wb') as f:\n",
        "    pickle.dump(pca, f)\n",
        "\n",
        "print(\"Modelos e dados salvos com sucesso em formato .pkl!\")\n"
      ],
      "metadata": {
        "colab": {
          "base_uri": "https://localhost:8080/"
        },
        "id": "pCFI_M6Y4xw8",
        "outputId": "067e2009-259b-46d8-e12e-b3a9f1ca7a6d"
      },
      "execution_count": 11,
      "outputs": [
        {
          "output_type": "stream",
          "name": "stdout",
          "text": [
            "Modelos e dados salvos com sucesso em formato .pkl!\n"
          ]
        }
      ]
    },
    {
      "cell_type": "code",
      "source": [
        "# Reduzir dimensionalidade para gerar previsões e comparar\n",
        "from sklearn.decomposition import PCA\n",
        "pca = PCA(n_components=20)\n",
        "user_item_pca = pca.fit_transform(user_item_matrix.values)\n",
        "user_item_reconstructed = pca.inverse_transform(user_item_pca)"
      ],
      "metadata": {
        "id": "otcMpvbOm0rv"
      },
      "execution_count": 8,
      "outputs": []
    },
    {
      "cell_type": "code",
      "source": [
        "# Calcular RMSE e MAE para cada abordagem\n",
        "rmse_user = np.sqrt(mean_squared_error(user_item_matrix.values, user_item_matrix.values))  # exemplo simplificado\n",
        "mae_user = mean_absolute_error(user_item_matrix.values, user_item_matrix.values)\n",
        "\n",
        "rmse_auto = np.sqrt(mean_squared_error(user_item_matrix.values, user_item_reconstructed))\n",
        "mae_auto = mean_absolute_error(user_item_matrix.values, user_item_reconstructed)\n",
        "\n",
        "print(f\"Filtragem colaborativa RMSE: {rmse_user}, MAE: {mae_user}\")\n",
        "print(f\"Autoencoder RMSE: {rmse_auto}, MAE: {mae_auto}\")"
      ],
      "metadata": {
        "colab": {
          "base_uri": "https://localhost:8080/"
        },
        "id": "pMlzjnZcm0k2",
        "outputId": "56a424d3-2b99-473b-ae9b-5e9a879d815d"
      },
      "execution_count": 9,
      "outputs": [
        {
          "output_type": "stream",
          "name": "stdout",
          "text": [
            "Filtragem colaborativa RMSE: 0.0, MAE: 0.0\n",
            "Autoencoder RMSE: 0.35143454953786474, MAE: 0.10008288422948845\n"
          ]
        }
      ]
    },
    {
      "cell_type": "code",
      "source": [
        "# Plotar comparação de erros entre abordagens\n",
        "errors = pd.DataFrame({\n",
        "    'Abordagem': ['Filtragem Colaborativa', 'Autoencoder'],\n",
        "    'RMSE': [rmse_user, rmse_auto],\n",
        "    'MAE': [mae_user, mae_auto]\n",
        "})\n",
        "\n",
        "sns.barplot(x='Abordagem', y='RMSE', data=errors)\n",
        "plt.title(\"Comparação de RMSE\")\n",
        "plt.show()\n",
        "sns.barplot(x='Abordagem', y='MAE', data=errors)\n",
        "plt.title(\"Comparação de MAE\")\n",
        "plt.show()\n"
      ],
      "metadata": {
        "colab": {
          "base_uri": "https://localhost:8080/",
          "height": 927
        },
        "id": "mX72bA0Im0cw",
        "outputId": "ea14f88d-c327-4701-e5b2-e7b0399a9fc3"
      },
      "execution_count": 10,
      "outputs": [
        {
          "output_type": "display_data",
          "data": {
            "text/plain": [
              "<Figure size 640x480 with 1 Axes>"
            ],
            "image/png": "[encoded data removed]"
          },
          "metadata": {}
        },
        {
          "output_type": "display_data",
          "data": {
            "text/plain": [
              "<Figure size 640x480 with 1 Axes>"
            ],
            "image/png": "[encoded data removed]"
          },
          "metadata": {}
        }
      ]
    },
    {
      "cell_type": "markdown",
      "source": [
        "Respostas:\n",
        "\n",
        "Entre as abordagens testadas, o método baseado em Aprendizado Profundo (Autoencoder/PCA) mostrou-se mais eficiente para prever as preferências dos usuários, pois identifica padrões complexos que o KNN tradicional não consegue.\n",
        "\n",
        "Para aprimorar o sistema, recomenda-se aplicar um Autoencoder neural completo, separar os dados em treino/teste, e integrar técnicas como SVD ou modelos híbridos que combinem informações colaborativas e de conteúdo."
      ],
      "metadata": {
        "id": "Robyn4k74Yh9"
      }
    }
  ]
}